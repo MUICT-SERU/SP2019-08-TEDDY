{
 "cells": [
  {
   "cell_type": "code",
   "execution_count": 23,
   "metadata": {},
   "outputs": [],
   "source": [
    "import csv\n",
    "import os\n",
    "import glob\n",
    "import pandas as pd\n"
   ]
  },
  {
   "cell_type": "code",
   "execution_count": null,
   "metadata": {},
   "outputs": [],
   "source": [
    "def clean(fin,fout):\n",
    "\n",
    "    with open(fin, \"r\") as f:\n",
    "        data = list(csv.reader(f))\n",
    "        #data = [[i[0].replace(\"D:\",\"\"),i[1]] for i in data]\n",
    "        \n",
    "    with open(fout, \"w\", newline='') as f:\n",
    "        for row in data:\n",
    "                temp=row[0].split(',')\n",
    "               # temp2 = temp[1].split('\\')\n",
    "               # temp3=temp[0].split('/')\n",
    "                if \"nonidiom\" in temp[0]:\n",
    "                    #print(temp3[len(temp3)-2]+\",\"+temp3[len(temp3)-1]+\",\"+temp2[0]+\",\"+temp2[1]+\",\"+row[1],file = f)\n",
    "                    print(temp[0],file=f)\n",
    "    return fout\n",
    "clean(fin=\"D:/Download/flask_idiom-python_idiom.csv\",fout = \"D:/Documents/test/test.csv\")"
   ]
  },
  {
   "cell_type": "code",
   "execution_count": 9,
   "metadata": {},
   "outputs": [
    {
     "name": "stdout",
     "output_type": "stream",
     "text": [
      "[3, 4, 5, 6]\n",
      "6\n"
     ]
    },
    {
     "data": {
      "text/plain": [
       "'D:/Documents/test/test2.csv'"
      ]
     },
     "execution_count": 9,
     "metadata": {},
     "output_type": "execute_result"
    }
   ],
   "source": [
    "def clean2(fin,fout):\n",
    "    i = 0\n",
    "    mylist = []\n",
    "    with open(fin, \"r\") as f:\n",
    "        data = list(csv.reader(f))\n",
    "        #data = [[i[0].replace(\"D:\",\"\"),i[1]] for i in data]\n",
    "        \n",
    "    with open(fout, \"w\", newline='') as f:\n",
    "        for row in data:\n",
    "            for temp in row:\n",
    "                i = i+1\n",
    "            mylist.append(i-1) \n",
    "            i=0\n",
    "    print(mylist)\n",
    "    print(max(mylist))\n",
    "    return fout\n",
    "clean2(fin=\"D:/Documents/test/testtest.csv\",fout = \"D:/Documents/test/test2.csv\")"
   ]
  },
  {
   "cell_type": "code",
   "execution_count": 16,
   "metadata": {},
   "outputs": [
    {
     "name": "stdout",
     "output_type": "stream",
     "text": [
      "['aaa', 'aaadd', 'ccc']\n"
     ]
    }
   ],
   "source": [
    "mylist = ['aaa','bbbb','ccc','ddd']\n",
    "sdf = ['dd','ee']\n",
    "new=mylist[0]+sdf[0]\n",
    "mylist[1] = new\n",
    "print(mylist)"
   ]
  },
  {
   "cell_type": "code",
   "execution_count": 29,
   "metadata": {},
   "outputs": [
    {
     "name": "stdout",
     "output_type": "stream",
     "text": [
      "aaa,bbbb\n",
      "aaa,ccc\n",
      "aaa,ddd\n"
     ]
    }
   ],
   "source": [
    "mylist = ['aaa','bbbb','ccc','ddd']\n",
    "for i in range(1,len(mylist)):\n",
    "    print(mylist[0]+\",\"+mylist[i])\n",
    "    "
   ]
  },
  {
   "cell_type": "code",
   "execution_count": 31,
   "metadata": {},
   "outputs": [
    {
     "name": "stdout",
     "output_type": "stream",
     "text": [
      "aaa,bbbb\n",
      "aaa,ccc\n",
      "aaa,ddd\n"
     ]
    }
   ],
   "source": [
    "mylist = ['aaa','bbbb','ccc','ddd']\n",
    "for i in range(1,len(mylist)):\n",
    "    print(mylist[0]+\",\"+mylist[i])\n",
    "    "
   ]
  },
  {
   "cell_type": "code",
   "execution_count": null,
   "metadata": {},
   "outputs": [],
   "source": [
    "def testtest(fin,fout):\n",
    "    i = 0\n",
    "    mylist = []\n",
    "    with open(fin, \"r\") as f:\n",
    "        data = list(csv.reader(f))\n",
    "        #data = [[i[0].replace(\"D:\",\"\"),i[1]] for i in data]\n",
    "        \n",
    "    with open(fout, \"w\", newline='') as f:\n",
    "        for row in data:\n",
    "            temp = row[0].split('\\')\n",
    "            temp2 = temp[len(temp)-1].split('-')\n",
    "            temp3 = temp2[len(temp2)-1].split('_')\n",
    "            newtemp = temp[1]+temp3[0]\n",
    "            temp2[1] = newtemp\n",
    "            #still buggy and has to add something hmmmmmmmmmm\n",
    "  \n",
    "    return fout\n",
    "clean2(fin=\"D:/Documents/test/testtest.csv\",fout = \"D:/Documents/test/test2.csv\")"
   ]
  },
  {
   "cell_type": "code",
   "execution_count": null,
   "metadata": {},
   "outputs": [],
   "source": []
  },
  {
   "cell_type": "code",
   "execution_count": 1,
   "metadata": {},
   "outputs": [
    {
     "name": "stdout",
     "output_type": "stream",
     "text": [
      "['', '4', '40']\n"
     ]
    }
   ],
   "source": [
    "mystring = \"#4#40\"\n",
    "new = mystring.split('#')\n",
    "print(new)"
   ]
  },
  {
   "cell_type": "code",
   "execution_count": 15,
   "metadata": {},
   "outputs": [
    {
     "name": "stdout",
     "output_type": "stream",
     "text": [
      "['idiom', 'dict comprehension.py']\n",
      "['idiom', 'enumerate.py']\n"
     ]
    },
    {
     "data": {
      "text/plain": [
       "'D:/Documents/test/test2.csv'"
      ]
     },
     "execution_count": 15,
     "metadata": {},
     "output_type": "execute_result"
    }
   ],
   "source": [
    "def testtest(fin,fout):\n",
    "    i = 0\n",
    "    header = []\n",
    "    with open(fin, \"r\") as f:\n",
    "        data = list(csv.reader(f))\n",
    "        #data = [[i[0].replace(\"D:\",\"\"),i[1]] for i in data]\n",
    "        \n",
    "    with open(fout, \"w\", newline='') as f:\n",
    "        for row in data:\n",
    "            temp = row[0].split('\\\\')\n",
    "            temp2 = temp[len(temp)-1].split('-')\n",
    "            temp3 = temp2[len(temp2)-1].split('_')\n",
    "            if len(temp2) == 3:\n",
    "                idiomname = temp2[1]+\" \"+temp3[0]\n",
    "            else:\n",
    "                idiomname = temp3[0]\n",
    "            header.append(temp2[0])\n",
    "            header.append(idiomname)\n",
    "            \n",
    "               \n",
    "            print(header)\n",
    "            header = []\n",
    "  \n",
    "    return fout\n",
    "testtest(fin=\"D:/Documents/test/testrow.csv\",fout = \"D:/Documents/test/test2.csv\")"
   ]
  },
  {
   "cell_type": "code",
   "execution_count": 143,
   "metadata": {},
   "outputs": [
    {
     "name": "stdout",
     "output_type": "stream",
     "text": [
      "helpers.py\n",
      "cli.py\n",
      "templating.py\n"
     ]
    }
   ],
   "source": [
    "def testtest2(fin,fout):\n",
    "    i = 0\n",
    "    header = []\n",
    "    with open(fin, \"r\") as f:\n",
    "        data = list(csv.reader(f))\n",
    "        #data = [[i[0].replace(\"D:\",\"\"),i[1]] for i in data]\n",
    "        \n",
    "    with open(fout, \"w\", newline='') as f:\n",
    "        for row in data:\n",
    "            for i in range(0,len(row)):\n",
    "                foo = row[i].split('\\\\')\n",
    "                #print(foo)\n",
    "                foo2 = foo[len(foo)-1].split('_')\n",
    "                #print(foo2)\n",
    "                for a in range (0,len(foo2)):\n",
    "                    if \".py\" in foo2[a]:\n",
    "                        for j in range (0,a+1):\n",
    "                            #print(a)\n",
    "                            if a == 0:\n",
    "                                filename = foo2[j]\n",
    "                            else:\n",
    "                                filename = foo2[j]\n",
    "                                #break\n",
    "                                \n",
    "                print(filename)\n",
    "testtest2(fin=\"D:/Documents/test/testbody.csv\",fout = \"D:/Documents/test/test2.csv\")\n",
    "            "
   ]
  },
  {
   "cell_type": "code",
   "execution_count": 151,
   "metadata": {},
   "outputs": [
    {
     "ename": "AttributeError",
     "evalue": "'str' object has no attribute 'concat'",
     "output_type": "error",
     "traceback": [
      "\u001b[1;31m---------------------------------------------------------------------------\u001b[0m",
      "\u001b[1;31mAttributeError\u001b[0m                            Traceback (most recent call last)",
      "\u001b[1;32m<ipython-input-151-18f279cc08b2>\u001b[0m in \u001b[0;36m<module>\u001b[1;34m\u001b[0m\n\u001b[0;32m      2\u001b[0m \u001b[0masdf\u001b[0m \u001b[1;33m=\u001b[0m \u001b[1;34m\"aa\"\u001b[0m\u001b[1;33m\u001b[0m\u001b[1;33m\u001b[0m\u001b[0m\n\u001b[0;32m      3\u001b[0m \u001b[1;32mfor\u001b[0m \u001b[0mi\u001b[0m \u001b[1;32min\u001b[0m \u001b[0mrange\u001b[0m \u001b[1;33m(\u001b[0m\u001b[1;36m3\u001b[0m\u001b[1;33m)\u001b[0m\u001b[1;33m:\u001b[0m\u001b[1;33m\u001b[0m\u001b[1;33m\u001b[0m\u001b[0m\n\u001b[1;32m----> 4\u001b[1;33m     \u001b[0masdf\u001b[0m\u001b[1;33m.\u001b[0m\u001b[0mconcat\u001b[0m\u001b[1;33m(\u001b[0m\u001b[0mmylist\u001b[0m\u001b[1;33m[\u001b[0m\u001b[0mi\u001b[0m\u001b[1;33m]\u001b[0m\u001b[1;33m)\u001b[0m\u001b[1;33m\u001b[0m\u001b[1;33m\u001b[0m\u001b[0m\n\u001b[0m\u001b[0;32m      5\u001b[0m     \u001b[0mprint\u001b[0m \u001b[1;33m(\u001b[0m\u001b[0masdf\u001b[0m\u001b[1;33m)\u001b[0m\u001b[1;33m\u001b[0m\u001b[1;33m\u001b[0m\u001b[0m\n\u001b[0;32m      6\u001b[0m \u001b[1;33m\u001b[0m\u001b[0m\n",
      "\u001b[1;31mAttributeError\u001b[0m: 'str' object has no attribute 'concat'"
     ]
    }
   ],
   "source": [
    "mylist = ['asdf','asdfasdf','asdfasdfasdf','asdfasdfasdfasfd']\n",
    "asdf = \"aa\"\n",
    "for i in range (3):\n",
    "    asdf.concat(mylist[i])\n",
    "    print (asdf)\n",
    "   \n",
    "    "
   ]
  },
  {
   "cell_type": "code",
   "execution_count": null,
   "metadata": {},
   "outputs": [],
   "source": []
  },
  {
   "cell_type": "code",
   "execution_count": null,
   "metadata": {},
   "outputs": [],
   "source": []
  },
  {
   "cell_type": "code",
   "execution_count": null,
   "metadata": {},
   "outputs": [],
   "source": []
  }
 ],
 "metadata": {
  "kernelspec": {
   "display_name": "Python 3",
   "language": "python",
   "name": "python3"
  },
  "language_info": {
   "codemirror_mode": {
    "name": "ipython",
    "version": 3
   },
   "file_extension": ".py",
   "mimetype": "text/x-python",
   "name": "python",
   "nbconvert_exporter": "python",
   "pygments_lexer": "ipython3",
   "version": "3.7.3"
  }
 },
 "nbformat": 4,
 "nbformat_minor": 2
}
