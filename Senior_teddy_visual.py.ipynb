{
 "cells": [
  {
   "cell_type": "code",
   "execution_count": 2,
   "metadata": {},
   "outputs": [],
   "source": [
    "import csv\n",
    "import os\n",
    "import glob\n",
    "import pandas as pd\n"
   ]
  },
  {
   "cell_type": "code",
   "execution_count": null,
   "metadata": {},
   "outputs": [],
   "source": [
    "def clean(fin,fout):\n",
    "\n",
    "    with open(fin, \"r\") as f:\n",
    "        data = list(csv.reader(f))\n",
    "        #data = [[i[0].replace(\"D:\",\"\"),i[1]] for i in data]\n",
    "        \n",
    "    with open(fout, \"w\", newline='') as f:\n",
    "        for row in data:\n",
    "                temp=row[0].split(',')\n",
    "               # temp2 = temp[1].split('\\')\n",
    "               # temp3=temp[0].split('/')\n",
    "                if \"nonidiom\" in temp[0]:\n",
    "                    #print(temp3[len(temp3)-2]+\",\"+temp3[len(temp3)-1]+\",\"+temp2[0]+\",\"+temp2[1]+\",\"+row[1],file = f)\n",
    "                    print(temp[0],file=f)\n",
    "    return fout\n",
    "clean(fin=\"D:/Download/flask_idiom-python_idiom.csv\",fout = \"D:/Documents/test/test.csv\")"
   ]
  },
  {
   "cell_type": "code",
   "execution_count": 9,
   "metadata": {},
   "outputs": [
    {
     "name": "stdout",
     "output_type": "stream",
     "text": [
      "[3, 4, 5, 6]\n",
      "6\n"
     ]
    },
    {
     "data": {
      "text/plain": [
       "'D:/Documents/test/test2.csv'"
      ]
     },
     "execution_count": 9,
     "metadata": {},
     "output_type": "execute_result"
    }
   ],
   "source": [
    "def clean2(fin,fout):\n",
    "    i = 0\n",
    "    mylist = []\n",
    "    with open(fin, \"r\") as f:\n",
    "        data = list(csv.reader(f))\n",
    "        #data = [[i[0].replace(\"D:\",\"\"),i[1]] for i in data]\n",
    "        \n",
    "    with open(fout, \"w\", newline='') as f:\n",
    "        for row in data:\n",
    "            for temp in row:\n",
    "                i = i+1\n",
    "            mylist.append(i-1) \n",
    "            i=0\n",
    "    print(mylist)\n",
    "    print(max(mylist))\n",
    "    return fout\n",
    "clean2(fin=\"D:/Documents/test/testtest.csv\",fout = \"D:/Documents/test/test2.csv\")"
   ]
  },
  {
   "cell_type": "code",
   "execution_count": 16,
   "metadata": {},
   "outputs": [
    {
     "name": "stdout",
     "output_type": "stream",
     "text": [
      "['aaa', 'aaadd', 'ccc']\n"
     ]
    }
   ],
   "source": [
    "mylist = ['aaa','bbbb','ccc','ddd']\n",
    "sdf = ['dd','ee']\n",
    "new=mylist[0]+sdf[0]\n",
    "mylist[1] = new\n",
    "print(mylist)"
   ]
  },
  {
   "cell_type": "code",
   "execution_count": 29,
   "metadata": {},
   "outputs": [
    {
     "name": "stdout",
     "output_type": "stream",
     "text": [
      "aaa,bbbb\n",
      "aaa,ccc\n",
      "aaa,ddd\n"
     ]
    }
   ],
   "source": [
    "mylist = ['aaa','bbbb','ccc','ddd']\n",
    "for i in range(1,len(mylist)):\n",
    "    print(mylist[0]+\",\"+mylist[i])\n",
    "    "
   ]
  },
  {
   "cell_type": "code",
   "execution_count": null,
   "metadata": {},
   "outputs": [],
   "source": [
    "def testtest(fin,fout):\n",
    "    i = 0\n",
    "    mylist = []\n",
    "    with open(fin, \"r\") as f:\n",
    "        data = list(csv.reader(f))\n",
    "        #data = [[i[0].replace(\"D:\",\"\"),i[1]] for i in data]\n",
    "        \n",
    "    with open(fout, \"w\", newline='') as f:\n",
    "        for row in data:\n",
    "            temp = row[0].split('\\')\n",
    "            temp2 = temp[len(temp)-1].split('-')\n",
    "            temp3 = temp2[len(temp2)-1].split('_')\n",
    "            newtemp = temp[1]+temp3[0]\n",
    "            temp2[1] = newtemp\n",
    "            #still buggy and has to add something hmmmmmmmmmm\n",
    "  \n",
    "    return fout\n",
    "clean2(fin=\"D:/Documents/test/testtest.csv\",fout = \"D:/Documents/test/test2.csv\")"
   ]
  },
  {
   "cell_type": "code",
   "execution_count": null,
   "metadata": {},
   "outputs": [],
   "source": [
    "#from internship code still not edit anything hmmmmmmmmmmmmmmmmmmmmm\n",
    "\n",
    "def plot_graph1(cbad,cgood,ctotal):\n",
    "    \n",
    "    output_notebook()\n",
    "\n",
    "    bad = pd.read_csv(cbad)\n",
    "    bad['Date'] = pd.to_datetime(bad['Date'],format='%Y-%m-%d')\n",
    "    bad['Count'] = bad['Count']*10\n",
    "\n",
    "    good = pd.read_csv(cgood)\n",
    "    good['Date'] = pd.to_datetime(good['Date'],format='%Y-%m-%d')\n",
    "    good['Count'] = good['Count']*10\n",
    "\n",
    "    total = pd.read_csv(ctotal)\n",
    "\n",
    "    sourcebad = ColumnDataSource(bad)\n",
    "    sourcegood = ColumnDataSource(good)\n",
    "\n",
    "    packs = total['Package'].unique().astype('str')\n",
    "\n",
    "\n",
    "    p=figure(x_axis_type='datetime',y_range = packs,plot_width = 900,title=\"Non-idiomatic and Idiomatic Code Occurences in Packages of a Project\",tools=['wheel_zoom','pan','reset'])\n",
    "\n",
    "\n",
    "    p.circle(x='Date', y=jitter('Package', width=0.6, range=p.y_range),size =10, source=bad,color='red',alpha=0.2,legend = 'Non-idiomatic')\n",
    "    p.circle(x='Date', y=jitter('Package', width=0.6, range=p.y_range),size =10, source=good,color='green',alpha=0.2,legend = 'Idiomatic')\n",
    "\n",
    "    p.yaxis.axis_label = \"Packages\"\n",
    "    p.xaxis.axis_label = \"Time\"\n",
    "    p.xaxis.formatter=DatetimeTickFormatter(days = [\"%Y/%m/%d\" ])\n",
    "\n",
    "    p.legend.location = \"top_right\"\n",
    "    p.legend.click_policy=\"hide\"\n",
    "    show(p)\n",
    "\n",
    "\n"
   ]
  }
 ],
 "metadata": {
  "kernelspec": {
   "display_name": "Python 3",
   "language": "python",
   "name": "python3"
  },
  "language_info": {
   "codemirror_mode": {
    "name": "ipython",
    "version": 3
   },
   "file_extension": ".py",
   "mimetype": "text/x-python",
   "name": "python",
   "nbconvert_exporter": "python",
   "pygments_lexer": "ipython3",
   "version": "3.7.3"
  }
 },
 "nbformat": 4,
 "nbformat_minor": 2
}
